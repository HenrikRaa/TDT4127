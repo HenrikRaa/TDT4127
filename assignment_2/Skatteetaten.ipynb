{
 "cells": [
  {
   "cell_type": "markdown",
   "metadata": {
    "deletable": false,
    "editable": false,
    "run_control": {
     "frozen": true
    }
   },
   "source": [
    "<nav class=\"navbar navbar-default\">\n",
    "  <div class=\"container-fluid\">\n",
    "    <div class=\"navbar-header\">\n",
    "      <a class=\"navbar-brand\" href=\"_Oving2.ipynb\">Øving 2</a>\n",
    "    </div>\n",
    "    <ul class=\"nav navbar-nav\">\n",
    "    <li><a href=\"Ulike%20typer%20if-setninger.ipynb\">Ulike typer if-setninger</a></li>\n",
    "    <li><a href=\"Sammenligning%20av%20strenger.ipynb\">Sammenligning av strenger</a></li>\n",
    "    <li><a href=\"Logiske%20operatorer%20og%20logiske%20uttrykk.ipynb\">Logiske operatorer og logiske uttrykk</a></li>\n",
    "    <li><a href=\"Forbrytelse%20og%20straff.ipynb\">Forbrytelse og straff</a></li>\n",
    "    <li><a href=\"Aarstider.ipynb\">Årstider</a></li>\n",
    "        <li ><a href=\"Tekstbasert%20spill.ipynb\">Tekstbasert spill</a></li>\n",
    "    <li><a href=\"Sjakkbrett.ipynb\">Sjakkbrett</a></li>\n",
    "    <li><a href=\"Billettpriser%20og%20rabatter.ipynb\">Billettpriser og rabatter</a></li>\n",
    "    <li class=\"active\"><a href=\"Skatteetaten.ipynb\">Skatteetaten</a></li>\n",
    "    <li><a href=\"Epletigging.ipynb\">Datamaskinen som tigget epler</a></li>\n",
    "    <li><a href=\"Andregradsligning.ipynb\">Andregradsligning</a></li>\n",
    "    </ul>\n",
    "  </div>\n",
    "</nav>\n",
    "\n",
    "# Skatteetaten\n",
    "\n",
    "**Læringsmål:**\n",
    "\n",
    "* Betingelser\n",
    "\n",
    "**Starting Out with Python:**\n",
    "\n",
    "* Kap. 3.1- 3.2\n",
    "* Kap. 3.4\n",
    " \n",
    "\n",
    "I denne oppgaven skal du lage et program som tar inn opplysninger om utleie av eiendom fra en bruker. Programmet vil så beregne hvor stor andel av inntekten som er skattbar.  \n",
    "\n",
    "Regler for skatt finnes på Skatteetaten sine hjemmesider, men er ikke nødvendig å sette seg inn i: \n",
    "\n",
    "http://www.skatteetaten.no/no/Person/Selvangivelse/tema-og-fradrag/Jobb-og-utdanning/delingsokonomi/utleie-av-bolig-og-fritidsbolig/\n",
    "\n",
    " \n",
    "\n"
   ]
  },
  {
   "cell_type": "markdown",
   "metadata": {
    "deletable": false,
    "editable": false,
    "run_control": {
     "frozen": true
    }
   },
   "source": [
    "### a)"
   ]
  },
  {
   "cell_type": "markdown",
   "metadata": {
    "deletable": false,
    "editable": false,
    "run_control": {
     "frozen": true
    }
   },
   "source": [
    "Lag et program som ber brukeren om opplysninger og svarer om inntekten er skattepliktig eller skattefri. \n",
    "\n",
    "Regler som må implementeres:\n",
    "\n",
    "* Hvis du bruker minst halvparten av boligen du eier til eget bruk, beregnet etter utleieverdi, er det skattefritt å leie ut resten.\n",
    "*  Leier du ut mer enn halvparten av egen bolig, men for under 20 000 kr i året er det også skattefritt.\n",
    "* Leier du ut hele eller mer enn halvparten av egen bolig for over 20 000 kr i året er samtlige leieinntekter for hele året skattepliktige. \n",
    "\n",
    "**Eksempel på kjøring av kode:**\n",
    " \n",
    "```python\n",
    "INFO  \n",
    "Dette programmet besvarer om din utleie av egen bolig er skattepliktig. \n",
    "Først trenger vi å vite hvor stor del av boligen du har leid ut.\n",
    "Angi dette i prosent, 100 betyr hele boligen, 50 betyr halve,\n",
    "20 en mindre del av boligen som f.eks. en hybel.\n",
    "----------------------------------------------------------------------  \n",
    "DATAINNHENTING:  \n",
    "Oppgi hvor mye av boligen som ble utleid: 65  \n",
    "Skriv inn hva du har hatt i leieinntekt: 45000   \n",
    "----------------------------------------------------------------------  \n",
    "SKATTEBEREGNING:  \n",
    "Inntekten er skattepliktig  \n",
    "Skattepliktig beløp er 45000\n",
    "```\n",
    "\n",
    "***Skriv koden din her:***"
   ]
  },
  {
   "cell_type": "code",
   "execution_count": 31,
   "metadata": {},
   "outputs": [
    {
     "name": "stdout",
     "output_type": "stream",
     "text": [
      "Skattefritt!\n"
     ]
    }
   ],
   "source": [
    "def skatteplikt_bolig():\n",
    "    andel_utleie = float(input(\"Oppgi hvor mye av boligen som ble utleid (%); \"))\n",
    "    leieinntekt = float(input(\"Skriv inn hva du har hatt i leieinntekt (kr): \"))\n",
    "\n",
    "    if andel_utleie >= 50 and leieinntekt <= 20000:\n",
    "        print(\"Skattefritt!\")\n",
    "    elif andel_utleie > 50 and leieinntekt > 20000:\n",
    "        print(f\"Inntekten er skattepliktig.\\nSkattepliktig beløp er {int(leieinntekt)} kr.\")\n",
    "    elif andel_utleie < 50 and leieinntekt <= 20000:\n",
    "        print(\"Skattefritt!\")\n",
    "\n",
    "skatteplikt_bolig()"
   ]
  },
  {
   "cell_type": "markdown",
   "metadata": {
    "deletable": false,
    "editable": false,
    "run_control": {
     "frozen": true
    }
   },
   "source": [
    "### b)"
   ]
  },
  {
   "cell_type": "markdown",
   "metadata": {
    "deletable": false,
    "editable": false,
    "run_control": {
     "frozen": true
    }
   },
   "source": [
    "For å leie ut *sekundærbolig* eller *fritidsbolig* gjelder det særskilte regler. Lag et tilsvarende program som dekker disse behovene. (Se samme nettside for mer informasjon om ønskelig.)\n",
    "\n",
    "Regler som må implementeres:\n",
    "\n",
    "* Sekundærbolig:\n",
    " * Utleie av sekundærbolig beskattes fra første krone.\n",
    "* Fritidsbolig:\n",
    " * Der du helt eller delvis bruker fritidsboligen til fritidsformål, og selv bruker eiendommen i rimelig omfang over tid, så vil utleieinntekter inntil kr 10 000 være skattefrie.\n",
    " * Av det overskytende beløp regnes 85 prosent som skattepliktig inntekt.\n",
    " * Dersom fritidsboligen anses som utleiehytte blir det beskatning fra første krone.\n",
    " * Om du leier ut flere enn en fritidsbolig vil grensen på 10 000 gjelde per fritidsbolig.\n",
    " \n",
    "**Eksempel på kjøring av kode:**\n",
    " \n",
    "```python\n",
    "INFO\n",
    "Dette programmet besvarer om din utleie en annen type bolig,\n",
    "her sekundær- eller fritidsbolig, er skattepliktig.\n",
    "Først trenger vi å vite om du leier ut en sekundær- eller en fritidsbolig.\n",
    "---------------------------------------------------------------------\n",
    "DATAINNHENTING:\n",
    "Skriv inn type annen bolig (sekundærbolig/fritidsbolig) du har leid ut: Fritidsbolig\n",
    "    \n",
    "INFO\n",
    "Du har valgt fritidsbolig.\n",
    "Nå trenger vi først å vite om fritidsboligen(e) primært brukes til utleie eller fritid.\n",
    "Deretter trenger vi å vite hvor mange fritidsbolig(er) du leier ut.\n",
    "Til slutt trenger vi å vite hvor store utleieinntekter du har pr. fritidsbolig.\n",
    "\n",
    "---------------------------------------------------------------------\n",
    "DATAINNHENTING:\n",
    "Skriv inn formålet med fritidsboligen(e): Fritid\n",
    "Skriv inn antallet fritidsboliger du leier ut: 3\n",
    "Skriv inn utleieinntekten pr. fritidsbolig: 15000\n",
    "    \n",
    "---------------------------------------------------------------------\n",
    "SKATTEBEREGNING:\n",
    "Inntekten er skattepliktig\n",
    "Overskytende beløp pr. fritidsbolig er 5000\n",
    "Skattepliktig inntekt pr. fritidsbolig er 4250\n",
    "Totalt skattepliktig beløp er 12750\n",
    "```\n",
    "\n",
    "***Skriv koden din her:***"
   ]
  },
  {
   "cell_type": "code",
   "execution_count": 23,
   "metadata": {},
   "outputs": [
    {
     "name": "stdout",
     "output_type": "stream",
     "text": [
      "\n",
      "    Dette programmet besvarer om din utleie en annen type bolig, her sekundær- eller fritidsbolig, er skattepliktig.\n",
      "\n",
      "    Først trenger vi å vite om du leier ut en sekundær- eller en fritidsbolig.\n",
      "    \n",
      "\n",
      "        Du har valgt fritidsbolig.\n",
      "\n",
      "        Nå trenger vi først å vite om fritidsboligen(e) primært brukes til utleie eller fritid.\n",
      "\n",
      "        Deretter trenger vi å vite hvor mange fritidsbolig(er) du leier ut.\n",
      "\n",
      "        Til slutt trenger vi å vite hvor store utleieinntekter du har pr. fritidsbolig.\n",
      "        \n",
      "\n",
      "                Inntekten er skattepliktig.\n",
      "\n",
      "                Overskytende beløp er 5000.0 kr.\n",
      "\n",
      "                Skattepliktig inntekt pr. fritidsbolig er 4250.0 kr.\n",
      "\n",
      "                Totalt skattepliktig beløp er 12750.0 kr\n",
      "                \n"
     ]
    }
   ],
   "source": [
    "def sekundær_fritidsbolig_skatteplikt():\n",
    "    \n",
    "    print(\"\"\"\n",
    "    Dette programmet besvarer om din utleie en annen type bolig, her sekundær- eller fritidsbolig, er skattepliktig.\\n\n",
    "    Først trenger vi å vite om du leier ut en sekundær- eller en fritidsbolig.\n",
    "    \"\"\")\n",
    "    \n",
    "    bolig_type = str(input(\"Skriv inn type annen bolig (sekundær/fritidsbolig) du har leid ut: \"))\n",
    "\n",
    "    if bolig_type.lower() == \"sekundærbolig\" or bolig_type.lower() == \"sekundær\":\n",
    "        print(\"Utleie av sekundærbolig beskattes fra første krone\")\n",
    "\n",
    "    elif bolig_type.lower() == \"fritidsbolig\" or bolig_type.lower() == \"fritids\":\n",
    "        print(\"\"\"\n",
    "        Du har valgt fritidsbolig.\\n\n",
    "        Nå trenger vi først å vite om fritidsboligen(e) primært brukes til utleie eller fritid.\\n\n",
    "        Deretter trenger vi å vite hvor mange fritidsbolig(er) du leier ut.\\n\n",
    "        Til slutt trenger vi å vite hvor store utleieinntekter du har pr. fritidsbolig.\n",
    "        \"\"\")\n",
    "\n",
    "        formål_fritids = str(input(\"Skriv inn formålet med fritidsboligen(e): \"))\n",
    "\n",
    "        if formål_fritids.lower() == \"utleie\":\n",
    "            print(\"Utleie av fritidsbolig beskattes fra første krone\")\n",
    "\n",
    "        elif formål_fritids.lower() == \"fritid\":\n",
    "            antall_fritids = float(input(\"Skriv inn antallet fritidsboliger du leier ut: \"))\n",
    "            utleieinntekt_fritids = float(input(\"Skriv inn uleieinntekten pr. fritidsbolig: \"))\n",
    "\n",
    "            if utleieinntekt_fritids <= 10000:\n",
    "                print(\"Skattefritt!\")\n",
    "            \n",
    "            else:\n",
    "                overskytende_beløp = utleieinntekt_fritids - 10000\n",
    "                skattepliktig_beløp = utleieinntekt_fritids * 0.85\n",
    "                skattepliktig_beløp_pr_bolig = skattepliktig_beløp / antall_fritids\n",
    "\n",
    "                print(f\"\"\"\n",
    "                Inntekten er skattepliktig.\\n\n",
    "                Overskytende beløp er {overskytende_beløp} kr.\\n\n",
    "                Skattepliktig inntekt pr. fritidsbolig er {skattepliktig_beløp_pr_bolig} kr.\\n\n",
    "                Totalt skattepliktig beløp er {skattepliktig_beløp} kr\n",
    "                \"\"\")\n",
    "\n",
    "        else:\n",
    "                print(\"Ugyldig formål. Fritid eller utleie.\")\n",
    "    else:\n",
    "        print(\"Ugyldig boligtype. Fritids eller sekundær.\")\n",
    "\n",
    "sekundær_fritidsbolig_skatteplikt()"
   ]
  },
  {
   "cell_type": "markdown",
   "metadata": {
    "deletable": false,
    "editable": false,
    "run_control": {
     "frozen": true
    }
   },
   "source": [
    "### c)"
   ]
  },
  {
   "cell_type": "markdown",
   "metadata": {
    "deletable": false,
    "editable": false,
    "run_control": {
     "frozen": true
    }
   },
   "source": [
    "Sett sammen del (a) og (b) til et større program som først spør brukeren hva som er blitt leid ut (egen bolig / sekundærbolig / fritidsbolig), og deretter regner ut passende skattesats. Du kan delvis kopiere koden fra de tidligere deloppgavene.\n",
    "\n",
    "***Skriv koden din her:***"
   ]
  },
  {
   "cell_type": "code",
   "execution_count": 29,
   "metadata": {},
   "outputs": [],
   "source": [
    "def utleie_skattesats():\n",
    "    utleie_objekt = str(input(\"Hva skal bli leid ut? (egen bolig / sekundærbolig / fritidsbolig)\"))\n",
    "\n",
    "    if utleie_objekt.lower() == \"egen bolig\" or utleie_objekt.lower() == \"egen\":\n",
    "        skatteplikt_bolig()\n",
    "    elif utleie_objekt.lower() == \"sekundærbolig\" or utleie_objekt.lower() == \"sekundær\" \\\n",
    "        or utleie_objekt.lower() == \"fritids\" or utleie_objekt.lower() == \"fritidsbolig\":\n",
    "        sekundær_fritidsbolig_skatteplikt()\n",
    "\n",
    "utleie_skattesats()"
   ]
  }
 ],
 "metadata": {
  "kernelspec": {
   "display_name": "Python 3.10.7 64-bit (microsoft store)",
   "language": "python",
   "name": "python3"
  },
  "language_info": {
   "codemirror_mode": {
    "name": "ipython",
    "version": 3
   },
   "file_extension": ".py",
   "mimetype": "text/x-python",
   "name": "python",
   "nbconvert_exporter": "python",
   "pygments_lexer": "ipython3",
   "version": "3.10.7"
  },
  "toc": {
   "base_numbering": 1,
   "nav_menu": {},
   "number_sections": false,
   "sideBar": true,
   "skip_h1_title": false,
   "title_cell": "Table of Contents",
   "title_sidebar": "Contents",
   "toc_cell": false,
   "toc_position": {},
   "toc_section_display": true,
   "toc_window_display": false
  },
  "vscode": {
   "interpreter": {
    "hash": "0b681533468f26d4ca83220e40aec344078d84ddffc3996153d2cf4a4f0b89dc"
   }
  }
 },
 "nbformat": 4,
 "nbformat_minor": 2
}
