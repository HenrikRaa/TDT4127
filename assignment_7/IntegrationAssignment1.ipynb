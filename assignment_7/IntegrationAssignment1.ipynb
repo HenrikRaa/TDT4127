{
 "cells": [
  {
   "cell_type": "markdown",
   "metadata": {
    "deletable": false,
    "editable": false
   },
   "source": [
    "# Numerical integration \n",
    "\n",
    "# 1) \n",
    "\n",
    "In this exercise we will approximate integrals in 1D using numerical methods.\n",
    "\n",
    "Given a function $f(x)$ on an inteval $[a,b]$, one can approximate its integral $\\int_a^bf(x)\\mathrm{d}x$ by using, for example, the rectangle rule/midpoint rule:\n",
    "$$I=\\int_a^bf(x)\\mathrm{d}x \\approx (b-a) f\\left(\\frac{a+b}{2}\\right),$$\n",
    "or the trapezoidal rule:\n",
    "$$I=\\int_a^bf(x)\\mathrm{d}x \\approx(b-a)\\left(\\frac{f(a)+f(b)}{2}\\right).$$\n",
    "\n"
   ]
  },
  {
   "cell_type": "markdown",
   "metadata": {
    "deletable": false,
    "editable": false
   },
   "source": [
    "## a)\n",
    "\n",
    "Write function that accepts another function $f(x)$ and two interval boundaries $a$ and $b$ and returns an approximation to the integral $I$ using:\n",
    "\n",
    "***i)*** the rectangle rule; and,\n",
    "\n",
    "***ii)*** the trapezoidal rule.\n",
    "\n",
    "**Hint:** Your solution should look something like this:\n",
    "\n",
    "```python\n",
    "def integrate_midpoint(f,a,b):\n",
    "    ...\n",
    "    return I \n",
    "```\n",
    "\n",
    "```python\n",
    "def integrate_trapezoid(f,a,b):\n",
    "    ...\n",
    "    return I\n",
    "```\n",
    "***Write your code in the block below***"
   ]
  },
  {
   "cell_type": "code",
   "execution_count": 9,
   "metadata": {},
   "outputs": [],
   "source": [
    "def integrate_midpoint(f, a, b):\n",
    "    return (b - a) * f((a + b) / 2)\n",
    "\n",
    "def integrate_trapezoid(f, a, b):\n",
    "    return (b - a) * ((f(a) + f(b)) / 2)\n"
   ]
  },
  {
   "cell_type": "markdown",
   "metadata": {
    "deletable": false,
    "editable": false
   },
   "source": [
    "## b)\n",
    "To test our functions `integrate_midpoint` and `integrate_trapezoid`, we can use the following simple function\n",
    "$$f(x)=x^n,$$ \n",
    "which has the indefinite integral\n",
    "$$F(x) = \\int x^n \\mathrm{d}x = \\frac{x^{n+1}}{n+1}$$\n",
    "and the definite integral on the interval $[a,b]$ given by\n",
    "$$I_{exact} = \\int^b_a x^n \\mathrm{d}x =  F(b)-F(a) $$\n",
    "\n"
   ]
  },
  {
   "cell_type": "markdown",
   "metadata": {
    "deletable": false,
    "editable": false
   },
   "source": [
    "### i) \n",
    "For $n=0,1,2,3,4$ and on the interval $[0,1]$, compute the error of the numerical approximations for the two functions you created in Q1a). (***Hint:*** The error is given by the difference from the numerical solution and the exact solution $\\mathrm{error} = I_{numerical} - I_{exact}$,where $I_{numerical}$ is calculated by the trapezoidal rule or midpoint rule above. Also use a `for` loop)\n",
    "\n",
    "***Write your code in the block below***"
   ]
  },
  {
   "cell_type": "code",
   "execution_count": 17,
   "metadata": {},
   "outputs": [
    {
     "name": "stdout",
     "output_type": "stream",
     "text": [
      "Error numerical:\n",
      "n = 0\n",
      " Midpoint = 0.0\n",
      " Trapezoid = 0.0\n",
      "n = 1\n",
      " Midpoint = 0.0\n",
      " Trapezoid = 0.0\n",
      "n = 2\n",
      " Midpoint = -0.08333333333333331\n",
      " Trapezoid = 0.16666666666666669\n",
      "n = 3\n",
      " Midpoint = -0.125\n",
      " Trapezoid = 0.25\n",
      "n = 4\n",
      " Midpoint = -0.1375\n",
      " Trapezoid = 0.3\n"
     ]
    }
   ],
   "source": [
    "F = lambda x, n : x**(n + 1) / (n + 1)\n",
    "\n",
    "f = lambda x, n : x**n\n",
    "\n",
    "test_func = lambda y : f(y, n)\n",
    "\n",
    "print(\"Error numerical:\")\n",
    "\n",
    "for n in range(5):\n",
    "\n",
    "    excact_integral = F(1, n) - F(0, n)\n",
    "\n",
    "    error_midpoint = integrate_midpoint(test_func, 0, 1) - excact_integral\n",
    "    error_trapezoid = integrate_trapezoid(test_func, 0, 1) - excact_integral\n",
    "    \n",
    "    print(f\"n = {n}\")\n",
    "    print(f\" Midpoint = {error_midpoint}\")\n",
    "    print(f\" Trapezoid = {error_trapezoid}\")"
   ]
  },
  {
   "cell_type": "markdown",
   "metadata": {
    "deletable": false,
    "editable": false,
    "run_control": {
     "frozen": true
    }
   },
   "source": [
    "### ii) \n",
    "What do you notice about the errors for $n=0$ and $1$? Can you explain your observation?"
   ]
  },
  {
   "cell_type": "markdown",
   "metadata": {},
   "source": [
    "##### They are both zero"
   ]
  },
  {
   "cell_type": "markdown",
   "metadata": {
    "deletable": false,
    "editable": false
   },
   "source": [
    "# 2)\n",
    "\n",
    "Now we can subdivide the interval $[a,b]$ into $n$ sub-intervals of length $\\Delta x = \\frac{b-a}{n}$ and use a composite integration rule. For example, if we let $x_k = a + k \\Delta x$ then the composite trapezoidal rule is calculated by summing smaller trapezoids with width $\\Delta x$. This is given by the formula\n",
    "$$\\int_a^bf(x)\\mathrm{d}x \\approx \\Delta x \\sum_{k=0}^{n}\\left(\\frac{f(x_k)+f(x_{k+1})}{2}\\right) .$$\n",
    "\n"
   ]
  },
  {
   "cell_type": "markdown",
   "metadata": {},
   "source": [
    "## a) \n",
    "Write a function that accept $f(x)$, two interval boundaries $a$ and $b$, and an integer $n$ and computes an approximation to $I=\\int^b_af(x)\\mathrm{d}x$ using the composite trapezoidal rule with $n$ sub-intervals. The function should look like this\n",
    "```python\n",
    "def integrate_composite_trapezoidal(f,a,b,n):\n",
    "    ...\n",
    "    return I\n",
    "```\n",
    "***Hint:*** you can use your function `integrate_composite_trapezoidal` from before! Also recall that sums are best implemented using a `for` loop. \n",
    "\n",
    "***Write your code in the block below***"
   ]
  },
  {
   "cell_type": "code",
   "execution_count": 31,
   "metadata": {},
   "outputs": [],
   "source": [
    "def integrate_composite_trapezoidal(f, a, b, n):\n",
    "    dx = (b - a) / n\n",
    "    I = 0\n",
    "\n",
    "    for k in range(n):\n",
    "        x_k = a + dx * k\n",
    "        x_k_1 = a + dx * (k + 1)\n",
    "        I += integrate_trapezoid(f, x_k, x_k_1)"
   ]
  },
  {
   "cell_type": "markdown",
   "metadata": {
    "deletable": false,
    "editable": false
   },
   "source": [
    "## b)\n",
    "The trapezoidal rule is approximating the function with a straight line (a degree 1 polynomial) and then finding the area underneath the line (which is equivalent to finding the area of a trapezoid). We can make a more accurate numerical method by approximating the function with a parabola (a degree 2 polynomial) and compute the area underneath the parabola. This gives us the Simpson rule, or composite Simpson rule if we divide the interval up, which is what we will do. The *composite* Simpson rule is given by the following formula\n",
    "$$\\qquad\\qquad\\quad\\qquad\\qquad\\int_a^bf(x)\\mathrm{d}x \\approx \\frac{\\Delta x}{3} \\left(f(x_0) + 4f(x_1)+ 2f(x_2)+ 4f(x_3)+ 2f(x_4)+...+ 4f(x_{n-1}) +f(x_n)\\right)\\\\\n",
    "\\approx \\frac{\\Delta x}{3} \\left(f(x_0) + \\sum_{k=1}^{n-1} c_k f(x_k) +f(x_n)\\right)$$\n",
    "where $c_k = 2$ if $k$ is even and $c_k = 4$ if $k$ is odd. Now write a function, similar to the previous question, that accept $f(x)$, two interval boundaries $a$ and $b$, and an integer $n$ and computes an approximation to $I=\\int^b_af(x)\\mathrm{d}x$ using the composite *Simpson* rule with $n$ sub-intervals,\n",
    "```python\n",
    "def integrate_composite_simpson(f,a,b,n):\n",
    "    ...\n",
    "    return I\n",
    "```\n",
    "\n",
    "***Write your code in the block below***"
   ]
  },
  {
   "cell_type": "code",
   "execution_count": 28,
   "metadata": {},
   "outputs": [],
   "source": [
    "def integrate_composite_simpson(f, a, b, n):\n",
    "  \n",
    "    dx = (b - a) / n\n",
    "    I = f(a)\n",
    "\n",
    "    for k in range(n-1):\n",
    "        if k % 2 == 0:\n",
    "            I += 2 * f(a + dx * k)\n",
    "        else:\n",
    "            I += 4 * f(a + dx * k)\n",
    "    \n",
    "    return dx / 3 * I + f(b)"
   ]
  },
  {
   "cell_type": "markdown",
   "metadata": {
    "deletable": false,
    "editable": false
   },
   "source": [
    "## c)\n",
    "### i)\n",
    "Using the simple function $f(x) = 5x^4 - 3x^2 + \\exp(x)$, which has the indefinite integral $F(x) = \\int f(x)\\mathrm{d}x = x^5 - x^3 + \\exp(x)$, calculate the error of integral using the composite trapezoidal and Simpson functions that you created above. Try the functions on the interval $[0,1]$ with $n=10$ subintervals. The error for this integral on this interval for the composite trapezoidal rule is about `0.0130816` and the Simpson rule is about `6.762013-05`\n",
    "\n",
    "\n",
    "***Write your code in the block below***"
   ]
  },
  {
   "cell_type": "code",
   "execution_count": 30,
   "metadata": {},
   "outputs": [
    {
     "ename": "TypeError",
     "evalue": "<lambda>() missing 1 required positional argument: 'n'",
     "output_type": "error",
     "traceback": [
      "\u001b[0;31m---------------------------------------------------------------------------\u001b[0m",
      "\u001b[0;31mTypeError\u001b[0m                                 Traceback (most recent call last)",
      "Cell \u001b[0;32mIn [30], line 8\u001b[0m\n\u001b[1;32m      4\u001b[0m F \u001b[38;5;241m=\u001b[39m \u001b[38;5;28;01mlambda\u001b[39;00m x, n : x\u001b[38;5;241m*\u001b[39m\u001b[38;5;241m*\u001b[39m\u001b[38;5;241m5\u001b[39m \u001b[38;5;241m-\u001b[39m x\u001b[38;5;241m*\u001b[39m\u001b[38;5;241m*\u001b[39m\u001b[38;5;241m3\u001b[39m \u001b[38;5;241m+\u001b[39m exp(x)\n\u001b[1;32m      6\u001b[0m f \u001b[38;5;241m=\u001b[39m \u001b[38;5;28;01mlambda\u001b[39;00m x, n : \u001b[38;5;241m5\u001b[39m \u001b[38;5;241m*\u001b[39m x\u001b[38;5;241m*\u001b[39m\u001b[38;5;241m*\u001b[39m\u001b[38;5;241m4\u001b[39m \u001b[38;5;241m-\u001b[39m \u001b[38;5;241m3\u001b[39m \u001b[38;5;241m*\u001b[39m x\u001b[38;5;241m*\u001b[39m\u001b[38;5;241m*\u001b[39m\u001b[38;5;241m2\u001b[39m \u001b[38;5;241m+\u001b[39m exp(x)\n\u001b[0;32m----> 8\u001b[0m F_comp_trap \u001b[38;5;241m=\u001b[39m integrate_composite_trapezoidal(f, \u001b[38;5;241m0\u001b[39m, \u001b[38;5;241m1\u001b[39m, \u001b[38;5;241m10\u001b[39m)\n\u001b[1;32m      9\u001b[0m F_comp_simp \u001b[38;5;241m=\u001b[39m integrate_composite_simpson(f, \u001b[38;5;241m0\u001b[39m, \u001b[38;5;241m1\u001b[39m, \u001b[38;5;241m10\u001b[39m)\n\u001b[1;32m     11\u001b[0m \u001b[38;5;28mprint\u001b[39m(F_comp_simp)\n",
      "Cell \u001b[0;32mIn [19], line 8\u001b[0m, in \u001b[0;36mintegrate_composite_trapezoidal\u001b[0;34m(f, a, b, n)\u001b[0m\n\u001b[1;32m      6\u001b[0m x_k \u001b[38;5;241m=\u001b[39m a \u001b[38;5;241m+\u001b[39m dx \u001b[38;5;241m*\u001b[39m k\n\u001b[1;32m      7\u001b[0m x_k_1 \u001b[38;5;241m=\u001b[39m a \u001b[38;5;241m+\u001b[39m dx \u001b[38;5;241m*\u001b[39m (k \u001b[38;5;241m+\u001b[39m \u001b[38;5;241m1\u001b[39m)\n\u001b[0;32m----> 8\u001b[0m I \u001b[38;5;241m+\u001b[39m\u001b[38;5;241m=\u001b[39m \u001b[43mintegrate_trapezoid\u001b[49m\u001b[43m(\u001b[49m\u001b[43mf\u001b[49m\u001b[43m,\u001b[49m\u001b[43m \u001b[49m\u001b[43mx_k\u001b[49m\u001b[43m,\u001b[49m\u001b[43m \u001b[49m\u001b[43mx_k_1\u001b[49m\u001b[43m)\u001b[49m\n",
      "Cell \u001b[0;32mIn [9], line 5\u001b[0m, in \u001b[0;36mintegrate_trapezoid\u001b[0;34m(f, a, b)\u001b[0m\n\u001b[1;32m      4\u001b[0m \u001b[38;5;28;01mdef\u001b[39;00m \u001b[38;5;21mintegrate_trapezoid\u001b[39m(f, a, b):\n\u001b[0;32m----> 5\u001b[0m     \u001b[38;5;28;01mreturn\u001b[39;00m (b \u001b[38;5;241m-\u001b[39m a) \u001b[38;5;241m*\u001b[39m ((\u001b[43mf\u001b[49m\u001b[43m(\u001b[49m\u001b[43ma\u001b[49m\u001b[43m)\u001b[49m \u001b[38;5;241m+\u001b[39m f(b)) \u001b[38;5;241m/\u001b[39m \u001b[38;5;241m2\u001b[39m)\n",
      "\u001b[0;31mTypeError\u001b[0m: <lambda>() missing 1 required positional argument: 'n'"
     ]
    }
   ],
   "source": [
    "from math import exp\n",
    "\n",
    "\n",
    "F = lambda x, n : x**5 - x**3 + exp(x)\n",
    "\n",
    "f = lambda x, n : 5 * x**4 - 3 * x**2 + exp(x)\n",
    "\n",
    "F_comp_trap = integrate_composite_trapezoidal(f, 0, 1, 10)\n",
    "F_comp_simp = integrate_composite_simpson(f, 0, 1, 10)\n",
    "\n",
    "print(F_comp_simp)"
   ]
  },
  {
   "cell_type": "markdown",
   "metadata": {
    "deletable": false,
    "editable": false,
    "run_control": {
     "frozen": true
    }
   },
   "source": [
    "### ii) \n",
    "What do you expect is the error of the Simpson rule when used to integrate the function $f(x) = -4 x^2 + 2x +17$ ? "
   ]
  },
  {
   "cell_type": "markdown",
   "metadata": {},
   "source": [
    "<***Double click here to write your answer***>"
   ]
  },
  {
   "cell_type": "markdown",
   "metadata": {},
   "source": [
    "## d) Optional bonus question!!\n",
    "\n",
    "### i) \n",
    "Now we will look at how the error of the composite methods changes as you increase the number of sub-intervals $n$ (which is the same as decreasing $\\Delta x$). Compute the error of the composite trapezoidal and Simpsons rule when integrating the function from Q2ci) on the interval $[0,1]$ then make a log-log plot of the error as a function of the step size $\\Delta x = \\frac{b-a}{2^i}$ for $i = 1,2,...,10$. In other words make a log-log plot with error on the vertical axis and $\\Delta x$ on the horizontal axis for the different values of $i$. Also plot the points $(\\Delta x, \\Delta x^2)$ and $(\\Delta x, \\Delta x^4)$ for $i = 1,2,...,10$.\n",
    "\n",
    "***Hint:*** The following code is used to make a log-log plot of the points $(\\Delta x, \\Delta x^2)$ and $(\\Delta x, \\Delta x^4)$ for $i = 1,2,...,10$. You therefore only need to add error plots on top. \n",
    "```python\n",
    "import matplotlib.pyplot as plt\n",
    "a = 0\n",
    "b = 1\n",
    "\n",
    "# add functions for f and F here\n",
    "\n",
    "for i in range(1,10):\n",
    "    n = 2**i\n",
    "    dx = (b-a)/n\n",
    "    # compute the numerical integrals and errors here then add the points (dx,error) to the following plot\n",
    "    plt.loglog(dx,dx**2,'kx',dx,dx**4,'kx')\n",
    "```\n",
    "Recall that for a log-log plot, you can only plot positive numbers, therefore take the absolute value of the error when you plot it."
   ]
  },
  {
   "cell_type": "code",
   "execution_count": null,
   "metadata": {},
   "outputs": [],
   "source": []
  },
  {
   "cell_type": "markdown",
   "metadata": {
    "deletable": false,
    "editable": false,
    "run_control": {
     "frozen": true
    }
   },
   "source": [
    "### ii) \n",
    "How does the error of the 2 methods vary in terms of $\\Delta x$?"
   ]
  },
  {
   "cell_type": "markdown",
   "metadata": {},
   "source": [
    "<***Double click to write answer here***>"
   ]
  }
 ],
 "metadata": {
  "kernelspec": {
   "display_name": "Python 3.9.6 64-bit",
   "language": "python",
   "name": "python3"
  },
  "language_info": {
   "codemirror_mode": {
    "name": "ipython",
    "version": 3
   },
   "file_extension": ".py",
   "mimetype": "text/x-python",
   "name": "python",
   "nbconvert_exporter": "python",
   "pygments_lexer": "ipython3",
   "version": "3.9.6"
  },
  "vscode": {
   "interpreter": {
    "hash": "31f2aee4e71d21fbe5cf8b01ff0e069b9275f58929596ceb00d14d90e3e16cd6"
   }
  }
 },
 "nbformat": 4,
 "nbformat_minor": 2
}
